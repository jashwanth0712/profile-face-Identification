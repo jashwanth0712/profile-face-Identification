{
 "cells": [
  {
   "cell_type": "code",
   "execution_count": 41,
   "metadata": {},
   "outputs": [
    {
     "data": {
      "text/plain": [
       "True"
      ]
     },
     "execution_count": 41,
     "metadata": {},
     "output_type": "execute_result"
    }
   ],
   "source": [
    "import cv2\n",
    "import os\n",
    "\n",
    "# Create the output folder if it doesn't exist\n",
    "if not os.path.exists('nose1'):\n",
    "    os.makedirs('nose1')\n",
    "\n",
    "# Load the image\n",
    "image = cv2.imread('subject1_16.jpg')\n",
    "\n",
    "# Convert the image to grayscale\n",
    "gray = cv2.cvtColor(image, cv2.COLOR_BGR2GRAY)\n",
    "\n",
    "# Apply Canny edge detection\n",
    "edges = cv2.Canny(gray, 100, 200)\n",
    "\n",
    "# Find contours in the edge image\n",
    "contours, _ = cv2.findContours(edges, cv2.RETR_EXTERNAL, cv2.CHAIN_APPROX_SIMPLE)\n",
    "\n",
    "# Filter contours based on area and aspect ratio\n",
    "filtered_contours = []\n",
    "for contour in contours:\n",
    "    area = cv2.contourArea(contour)\n",
    "    x, y, w, h = cv2.boundingRect(contour)\n",
    "    aspect_ratio = w / float(h)\n",
    "\n",
    "    # Adjust the thresholds as needed\n",
    "    if 300 < area < 2000 and 0.5 < aspect_ratio < 0.7:\n",
    "        filtered_contours.append(contour)\n",
    "\n",
    "# Sort the filtered contours by x-coordinate (left to right)\n",
    "filtered_contours = sorted(filtered_contours, key=lambda c: cv2.boundingRect(c)[0])\n",
    "\n",
    "# Draw bounding boxes around the filtered contours\n",
    "for contour in filtered_contours:\n",
    "    x, y, w, h = cv2.boundingRect(contour)\n",
    "\n",
    "    # Adjust the y-coordinate to align the rectangle with the nose\n",
    "    y -= 100\n",
    "\n",
    "    cv2.rectangle(image, (x, y), (x+w, y+h), (0, 255, 0), 2)\n",
    "\n",
    "    # Draw a red rectangle for the eye ROI\n",
    "    eye_x = x + 250\n",
    "    eye_y = y-200\n",
    "    eye_w = 200\n",
    "    eye_h = h\n",
    "    cv2.rectangle(image, (eye_x, eye_y), (eye_x+eye_w, eye_y+eye_h), (0, 0, 255), 2)\n",
    "\n",
    "    # Draw an orange rectangle for the lips ROI\n",
    "    lips_x = x \n",
    "    lips_y = y + 350\n",
    "    lips_w = 300\n",
    "    lips_h = 200\n",
    "    cv2.rectangle(image, (lips_x, lips_y), (lips_x+lips_w, lips_y+lips_h), (0, 165, 255), 2)\n",
    "\n",
    "# Save the resulting image with the same filename in the nose1 folder\n",
    "cv2.imwrite(os.path.join('nose1', '1.jpg'), image)\n"
   ]
  }
 ],
 "metadata": {
  "kernelspec": {
   "display_name": "Python 3",
   "language": "python",
   "name": "python3"
  },
  "language_info": {
   "codemirror_mode": {
    "name": "ipython",
    "version": 3
   },
   "file_extension": ".py",
   "mimetype": "text/x-python",
   "name": "python",
   "nbconvert_exporter": "python",
   "pygments_lexer": "ipython3",
   "version": "3.11.1"
  },
  "orig_nbformat": 4
 },
 "nbformat": 4,
 "nbformat_minor": 2
}
