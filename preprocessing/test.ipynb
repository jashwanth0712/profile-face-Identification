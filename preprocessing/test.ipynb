{
 "cells": [
  {
   "cell_type": "code",
   "execution_count": 7,
   "metadata": {},
   "outputs": [],
   "source": [
    "import numpy as np\n",
    "import cv2\n",
    "\n",
    "img = cv2.imread('./4.jpg', 0)\n",
    "# Remove salt and pepper noise using median filtering\n",
    "median_filtered = cv2.medianBlur(img, 5)\n",
    "cv2.imshow('noice removed', median_filtered)\n"
   ]
  },
  {
   "cell_type": "code",
   "execution_count": 8,
   "metadata": {},
   "outputs": [],
   "source": [
    "\n",
    "# Perform edge detection using Canny\n",
    "canny = cv2.Canny(median_filtered, 100, 200)\n",
    "cv2.imshow('canny', canny)\n",
    "\n"
   ]
  },
  {
   "cell_type": "code",
   "execution_count": 9,
   "metadata": {},
   "outputs": [],
   "source": [
    "# Perform edge tracking by hysteresis\n",
    "edges = cv2.dilate(canny, None)\n",
    "edges = cv2.erode(edges, None)\n",
    "threshold_low = 50\n",
    "threshold_high = 150\n",
    "edges = cv2.threshold(edges, threshold_low, threshold_high, cv2.THRESH_BINARY)[1]\n",
    "\n",
    "# Print the resulting image\n",
    "cv2.imshow('Result', edges)\n",
    "cv2.waitKey(0)\n",
    "cv2.destroyAllWindows()\n"
   ]
  }
 ],
 "metadata": {
  "kernelspec": {
   "display_name": "Python 3",
   "language": "python",
   "name": "python3"
  },
  "language_info": {
   "codemirror_mode": {
    "name": "ipython",
    "version": 3
   },
   "file_extension": ".py",
   "mimetype": "text/x-python",
   "name": "python",
   "nbconvert_exporter": "python",
   "pygments_lexer": "ipython3",
   "version": "3.11.1"
  },
  "orig_nbformat": 4
 },
 "nbformat": 4,
 "nbformat_minor": 2
}
