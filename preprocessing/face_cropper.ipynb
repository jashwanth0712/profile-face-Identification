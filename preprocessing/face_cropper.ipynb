{
 "cells": [
  {
   "cell_type": "code",
   "execution_count": 2,
   "metadata": {},
   "outputs": [],
   "source": [
    "import cv2\n",
    "\n",
    "#Load the side view face classifier\n",
    "side_face_cascade = cv2.CascadeClassifier('haarcascade_profileface.xml')\n",
    "\n",
    "#Load the input image\n",
    "img = cv2.imread('4.jpg')\n",
    "\n",
    "#Convert the image to grayscale\n",
    "gray = cv2.cvtColor(img, cv2.COLOR_BGR2GRAY)\n",
    "\n",
    "#Detect side view faces\n",
    "side_faces = side_face_cascade.detectMultiScale(gray, scaleFactor=1.1, minNeighbors=5, minSize=(30, 30))\n",
    "\n",
    "#Crop the side view faces\n",
    "for (x, y, w, h) in side_faces:\n",
    "    side_face = img[y:y+h, x:x+w]\n",
    "cv2.imshow('Side face', side_face)\n",
    "cv2.imwrite('side_face.jpg', side_face)\n",
    "cv2.waitKey(0)\n",
    "cv2.destroyAllWindows()"
   ]
  }
 ],
 "metadata": {
  "kernelspec": {
   "display_name": "Python 3",
   "language": "python",
   "name": "python3"
  },
  "language_info": {
   "codemirror_mode": {
    "name": "ipython",
    "version": 3
   },
   "file_extension": ".py",
   "mimetype": "text/x-python",
   "name": "python",
   "nbconvert_exporter": "python",
   "pygments_lexer": "ipython3",
   "version": "3.11.1"
  },
  "orig_nbformat": 4
 },
 "nbformat": 4,
 "nbformat_minor": 2
}
