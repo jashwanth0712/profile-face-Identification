{
 "cells": [
  {
   "cell_type": "code",
   "execution_count": 36,
   "id": "65335dba",
   "metadata": {},
   "outputs": [],
   "source": [
    "import os\n",
    "def ListofFiles(Dir):\n",
    "    Files = []\n",
    "    for root, dir_name, file_name in os.walk(Dir): \n",
    "#root store address till directory, dir_name stores directory name # file_name stores file name\n",
    "        for name in file_name:\n",
    "            fullName = os.path.join(root, name)\n",
    "            Files.append(fullName)\n",
    "    return Files"
   ]
  },
  {
   "cell_type": "code",
   "execution_count": 37,
   "id": "3b4d79a1",
   "metadata": {},
   "outputs": [],
   "source": [
    "FileList = ListofFiles(r'merged')"
   ]
  },
  {
   "cell_type": "code",
   "execution_count": 38,
   "id": "5484a028",
   "metadata": {},
   "outputs": [],
   "source": [
    "from PIL import Image\n",
    "import cv2\n",
    "pixels=[]\n",
    "for file in FileList:\n",
    "    Im = Image.open(file)\n",
    "    RIm=Im.resize((10,10))\n",
    "    pixels.append(list(RIm.getdata()))"
   ]
  },
  {
   "cell_type": "code",
   "execution_count": 39,
   "id": "aa397360",
   "metadata": {},
   "outputs": [
    {
     "name": "stdout",
     "output_type": "stream",
     "text": [
      "(120, 100)\n"
     ]
    }
   ],
   "source": [
    "import numpy as np\n",
    "from numpy import savetxt\n",
    "\n",
    "pixels_arr=np.asarray(pixels)\n",
    "print(pixels_arr.shape)\n",
    "savetxt('numbers.csv', pixels_arr, delimiter=',')"
   ]
  },
  {
   "cell_type": "code",
   "execution_count": 40,
   "id": "7408696d",
   "metadata": {},
   "outputs": [],
   "source": [
    "from numpy import loadtxt\n",
    "import matplotlib.pyplot as plt\n",
    "Image = loadtxt('numbers.csv', delimiter=',')"
   ]
  },
  {
   "cell_type": "code",
   "execution_count": 41,
   "id": "360835f8",
   "metadata": {},
   "outputs": [],
   "source": [
    "import pandas as pd\n",
    "df=pd.read_csv('numbers.csv')"
   ]
  },
  {
   "cell_type": "code",
   "execution_count": 42,
   "id": "119540fd",
   "metadata": {},
   "outputs": [
    {
     "ename": "ModuleNotFoundError",
     "evalue": "No module named 'sklearn'",
     "output_type": "error",
     "traceback": [
      "\u001b[1;31m---------------------------------------------------------------------------\u001b[0m",
      "\u001b[1;31mModuleNotFoundError\u001b[0m                       Traceback (most recent call last)",
      "Cell \u001b[1;32mIn[42], line 1\u001b[0m\n\u001b[1;32m----> 1\u001b[0m \u001b[39mfrom\u001b[39;00m \u001b[39msklearn\u001b[39;00m\u001b[39m.\u001b[39;00m\u001b[39mdecomposition\u001b[39;00m \u001b[39mimport\u001b[39;00m PCA\n\u001b[0;32m      2\u001b[0m \u001b[39mfrom\u001b[39;00m \u001b[39msklearn\u001b[39;00m\u001b[39m.\u001b[39;00m\u001b[39mpreprocessing\u001b[39;00m \u001b[39mimport\u001b[39;00m StandardScaler\n",
      "\u001b[1;31mModuleNotFoundError\u001b[0m: No module named 'sklearn'"
     ]
    }
   ],
   "source": [
    "from sklearn.decomposition import PCA\n",
    "from sklearn.preprocessing import StandardScaler"
   ]
  },
  {
   "cell_type": "code",
   "execution_count": null,
   "id": "e82e9b1f",
   "metadata": {},
   "outputs": [],
   "source": [
    "#add the target column\n",
    "output=['person 1','person 2','person 3','person 4','person 5','person 6']"
   ]
  },
  {
   "cell_type": "code",
   "execution_count": null,
   "id": "c7d38356",
   "metadata": {},
   "outputs": [],
   "source": [
    "j=0\n",
    "c=0\n",
    "for i in range(0,120):\n",
    "    df.at[i,100]=output[j]\n",
    "    c=c+1\n",
    "    if c==20:\n",
    "        j=j+1\n",
    "        c=0"
   ]
  },
  {
   "cell_type": "code",
   "execution_count": null,
   "id": "81021a55",
   "metadata": {},
   "outputs": [],
   "source": [
    "df=df.dropna()"
   ]
  },
  {
   "cell_type": "code",
   "execution_count": null,
   "id": "c87b3e73",
   "metadata": {},
   "outputs": [],
   "source": [
    "X=df.iloc[:,:-1]\n",
    "y=df.iloc[:,-1]"
   ]
  },
  {
   "cell_type": "code",
   "execution_count": null,
   "id": "2f494cd0",
   "metadata": {},
   "outputs": [],
   "source": [
    "# divide the data into train and test\n",
    "from sklearn.model_selection import train_test_split\n",
    "X_train, X_test, y_train, y_test = train_test_split(X, y, test_size=0.13, random_state=42)"
   ]
  },
  {
   "cell_type": "code",
   "execution_count": null,
   "id": "64438ecb",
   "metadata": {},
   "outputs": [
    {
     "name": "stdout",
     "output_type": "stream",
     "text": [
      "X_train Shape:  (103, 100)\n",
      "X_test Shape:  (16, 100)\n",
      "y_train Shape:  (103,)\n",
      "y_test Shape:  (16,)\n"
     ]
    }
   ],
   "source": [
    "# any model using train data \n",
    "print( \"X_train Shape: \", X_train.shape )\n",
    "print( \"X_test Shape: \", X_test.shape )\n",
    "print( \"y_train Shape: \", y_train.shape )\n",
    "print( \"y_test Shape: \", y_test.shape )"
   ]
  },
  {
   "cell_type": "code",
   "execution_count": null,
   "id": "6d3fc062",
   "metadata": {},
   "outputs": [
    {
     "name": "stdout",
     "output_type": "stream",
     "text": [
      "Model Accuracy: 0.8750\n"
     ]
    }
   ],
   "source": [
    "# test it using the model \n",
    "from sklearn.neighbors import KNeighborsClassifier\n",
    "# Taking k as 5\n",
    "model = KNeighborsClassifier(n_neighbors=5)\n",
    "model.fit( X_train, y_train )\n",
    "# Evaluating the model\n",
    "accuracy = model.score(X_test, y_test)\n",
    "print( \"Model Accuracy: %.4f\" % accuracy )\n"
   ]
  },
  {
   "cell_type": "code",
   "execution_count": null,
   "id": "5bc35ae1",
   "metadata": {},
   "outputs": [
    {
     "name": "stdout",
     "output_type": "stream",
     "text": [
      "[ 0.  0.  0.  0.  0. 13.  8.  0.  0.  0.  0.  0.  0.  0.  0. 17. 17.  0.\n",
      "  0.  0.  0.  0.  0.  0.  0.  5.  7.  0.  0.  0.  0.  0.  0.  0.  0.  4.\n",
      "  0.  2.  8.  3.  0.  0.  0.  0.  0.  8.  1.  4. 13.  6.  0.  0.  0.  1.\n",
      "  4.  1.  0.  0.  0.  0.  0.  0.  0.  2.  5.  5.  1.  0.  0.  0.  0.  0.\n",
      "  0.  0.  3. 10.  3.  0.  0.  0.  0.  0.  0.  0.  0.  7.  4.  0.  0.  0.\n",
      "  0.  0.  0.  0.  0.  2.  4.  0.  0.  0.]\n"
     ]
    }
   ],
   "source": [
    "from PIL import Image\n",
    "import numpy as np\n",
    "\n",
    "# Open the input image\n",
    "input_image = Image.open(\"subject1_4.jpg\")\n",
    "\n",
    "# Resize the image to 10x10\n",
    "resized_image = input_image.resize((10,10))\n",
    "\n",
    "# Get the pixel values of the resized image and convert to floating point numbers\n",
    "pixels = list(resized_image.getdata())\n",
    "pixels_arr = np.asarray(pixels, dtype=np.float32) \n",
    "\n",
    "print(pixels_arr)\n"
   ]
  },
  {
   "cell_type": "code",
   "execution_count": null,
   "id": "db016901",
   "metadata": {},
   "outputs": [
    {
     "name": "stdout",
     "output_type": "stream",
     "text": [
      "[ 0.  0.  0.  0.  0.  6. 23.  3.  0.  0.  0.  0.  0.  0.  0.  0. 17.  5.\n",
      "  0.  0.  0.  0.  0.  0.  0.  1.  2.  0.  0.  0.  0.  0.  0.  0.  0.  4.\n",
      "  2.  6.  8.  4.  0.  0.  0.  0.  2.  4.  2. 12. 14.  2.  0.  0.  0.  4.\n",
      "  3.  0.  0.  0.  0.  0.  0.  0.  0.  4.  6.  2.  0.  0.  0.  0.  0.  0.\n",
      "  0.  0.  8.  5.  1.  0.  0.  0.  0.  0.  0.  0.  4.  8.  1.  0.  0.  0.\n",
      "  0.  0.  0.  0.  0.  5.  0.  0.  0.  0.]\n"
     ]
    }
   ],
   "source": [
    "# Read the CSV file into a pandas dataframe\n",
    "df = pd.read_csv('numbers.csv')\n",
    "\n",
    "# Get the first row of the dataframe and convert it to a NumPy array\n",
    "first_row = np.array(df.iloc[0])\n",
    "\n",
    "# Print the resulting array\n",
    "print(first_row)"
   ]
  },
  {
   "cell_type": "code",
   "execution_count": null,
   "id": "130969eb",
   "metadata": {},
   "outputs": [
    {
     "ename": "NameError",
     "evalue": "name 'model' is not defined",
     "output_type": "error",
     "traceback": [
      "\u001b[1;31m---------------------------------------------------------------------------\u001b[0m",
      "\u001b[1;31mNameError\u001b[0m                                 Traceback (most recent call last)",
      "Cell \u001b[1;32mIn[28], line 1\u001b[0m\n\u001b[1;32m----> 1\u001b[0m a\u001b[39m=\u001b[39mmodel\u001b[39m.\u001b[39mpredict(pixels_arr)\n\u001b[0;32m      2\u001b[0m \u001b[39mprint\u001b[39m(a)\n",
      "\u001b[1;31mNameError\u001b[0m: name 'model' is not defined"
     ]
    }
   ],
   "source": [
    "# test it using the model \n",
    "from sklearn.neighbors import KNeighborsClassifier\n",
    "# Taking k as 5\n",
    "model = KNeighborsClassifier(n_neighbors=5)\n",
    "model.fit( X_train, y_train )\n",
    "# Evaluating the model\n",
    "accuracy = model.score(X_test, y_test)\n",
    "print( \"Model Accuracy: %.4f\" % accuracy )\n",
    "a=model.predict(pixels_arr)\n",
    "print(a)"
   ]
  }
 ],
 "metadata": {
  "kernelspec": {
   "display_name": "Python 3 (ipykernel)",
   "language": "python",
   "name": "python3"
  },
  "language_info": {
   "codemirror_mode": {
    "name": "ipython",
    "version": 3
   },
   "file_extension": ".py",
   "mimetype": "text/x-python",
   "name": "python",
   "nbconvert_exporter": "python",
   "pygments_lexer": "ipython3",
   "version": "3.11.1"
  }
 },
 "nbformat": 4,
 "nbformat_minor": 5
}
