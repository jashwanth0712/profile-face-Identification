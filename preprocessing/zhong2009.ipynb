{
 "cells": [
  {
   "cell_type": "code",
   "execution_count": 1,
   "metadata": {},
   "outputs": [],
   "source": [
    "import cv2\n",
    "import numpy as np\n",
    "import os\n",
    "\n",
    "\n",
    "class Detector:\n",
    "\n",
    "    cascade_left = cv2.CascadeClassifier('haarcascade_mcs_leftear.xml')\n",
    "    cascade_right = cv2.CascadeClassifier('haarcascade_mcs_rightear.xml')\n",
    "\n",
    "    def detect(self, img_):\n",
    "        det_list_left = self.cascade_left.detectMultiScale(img_, 1.05, 1)\n",
    "        det_list_right = self.cascade_right.detectMultiScale(img_, 1.05, 1)\n",
    "\n",
    "        ear_list = []\n",
    "        for x, y, w, h in det_list_left:\n",
    "            ear_list.append((x, y, w, h))\n",
    "        for x, y, w, h in det_list_right:\n",
    "            ear_list.append((x, y, w, h))\n",
    "\n",
    "        return ear_list\n",
    "\n",
    "\n",
    "if __name__ == '__main__':\n",
    "    img_file = '2.jpg'\n",
    "    img = cv2.imread(img_file)\n",
    "    detector = Detector()\n",
    "    detected_loc = detector.detect(img)\n",
    "    for x, y, w, h in detected_loc:\n",
    "        ear_img = img[y-100:y+h+100, x-100:x+w+100]\n",
    "        cv2.imwrite('Ear2.jpg', ear_img)\n",
    "        cv2.waitKey(0)\n",
    "        cv2.destroyAllWindows()\n",
    "\n",
    "\n",
    "\n"
   ]
  },
  {
   "cell_type": "markdown",
   "metadata": {},
   "source": []
  }
 ],
 "metadata": {
  "kernelspec": {
   "display_name": "Python 3",
   "language": "python",
   "name": "python3"
  },
  "language_info": {
   "codemirror_mode": {
    "name": "ipython",
    "version": 3
   },
   "file_extension": ".py",
   "mimetype": "text/x-python",
   "name": "python",
   "nbconvert_exporter": "python",
   "pygments_lexer": "ipython3",
   "version": "3.10.9"
  },
  "orig_nbformat": 4
 },
 "nbformat": 4,
 "nbformat_minor": 2
}
