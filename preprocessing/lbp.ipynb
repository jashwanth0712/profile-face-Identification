{
 "cells": [
  {
   "cell_type": "code",
   "execution_count": null,
   "metadata": {},
   "outputs": [],
   "source": [
    "from skimage.feature import local_binary_pattern\n",
    "from skimage.color import rgb2gray\n",
    "import matplotlib.pyplot as plt\n",
    "import numpy as np\n",
    "import cv2\n",
    "\n",
    "# Load image\n",
    "img = cv2.imread('1.jpeg')\n",
    "\n",
    "# Convert image to grayscale\n",
    "gray_img = rgb2gray(img)\n",
    "\n",
    "# Compute LBP features\n",
    "radius = 3\n",
    "n_points = 8 * radius\n",
    "lbp = local_binary_pattern(gray_img, n_points, radius)\n",
    "\n",
    "# Normalize the histogram\n",
    "hist, _ = np.histogram(lbp.ravel(), bins=np.arange(0, n_points + 3), range=(0, n_points + 2))\n",
    "hist = hist.astype(\"float\")\n",
    "hist /= (hist.sum() + 1e-7)\n",
    "\n",
    "# Display LBP image and histogram\n",
    "fig, ax = plt.subplots(1, 2, figsize=(10, 5))\n",
    "ax[0].imshow(lbp, cmap='gray')\n",
    "ax[0].set_title('LBP image')\n",
    "ax[1].bar(np.arange(0, n_points + 2), hist, width=0.8)\n",
    "ax[1].set_xlim([0, n_points + 2])\n",
    "ax[1].set_title('LBP histogram')\n",
    "plt.show()\n"
   ]
  }
 ],
 "metadata": {
  "language_info": {
   "name": "python"
  },
  "orig_nbformat": 4
 },
 "nbformat": 4,
 "nbformat_minor": 2
}
