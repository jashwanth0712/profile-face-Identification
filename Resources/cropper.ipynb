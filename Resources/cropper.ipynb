{
 "cells": [
  {
   "cell_type": "code",
   "execution_count": 13,
   "metadata": {},
   "outputs": [
    {
     "ename": "ModuleNotFoundError",
     "evalue": "No module named 'rembg'",
     "output_type": "error",
     "traceback": [
      "\u001b[1;31m---------------------------------------------------------------------------\u001b[0m",
      "\u001b[1;31mModuleNotFoundError\u001b[0m                       Traceback (most recent call last)",
      "Cell \u001b[1;32mIn[13], line 3\u001b[0m\n\u001b[0;32m      1\u001b[0m \u001b[39mimport\u001b[39;00m \u001b[39mcv2\u001b[39;00m\n\u001b[0;32m      2\u001b[0m \u001b[39mimport\u001b[39;00m \u001b[39mos\u001b[39;00m\n\u001b[1;32m----> 3\u001b[0m \u001b[39mfrom\u001b[39;00m \u001b[39mrembg\u001b[39;00m \u001b[39mimport\u001b[39;00m remove\n\u001b[0;32m      4\u001b[0m \u001b[39mfrom\u001b[39;00m \u001b[39mPIL\u001b[39;00m \u001b[39mimport\u001b[39;00m Image\n\u001b[0;32m      6\u001b[0m \u001b[39mdef\u001b[39;00m \u001b[39mcrop_side_face_folder\u001b[39m(folder_path):\n\u001b[0;32m      7\u001b[0m     \u001b[39m# Load the side view face classifier\u001b[39;00m\n",
      "\u001b[1;31mModuleNotFoundError\u001b[0m: No module named 'rembg'"
     ]
    }
   ],
   "source": [
    "import cv2\n",
    "import os\n",
    "from rembg import remove\n",
    "from PIL import Image\n",
    "\n",
    "def crop_side_face_folder(folder_path):\n",
    "    # Load the side view face classifier\n",
    "    side_face_cascade = cv2.CascadeClassifier('haarcascade_profileface.xml')\n",
    "\n",
    "    # Traverse all images in the folder\n",
    "    for file_name in os.listdir(folder_path):\n",
    "        if not file_name.endswith('.jpg'):  # Skip non-JPEG files\n",
    "            continue\n",
    "        input_file_path = os.path.join(folder_path, file_name)\n",
    "\n",
    "        # Load the input image\n",
    "        img = cv2.imread(input_file_path)\n",
    "\n",
    "        # Convert the image to grayscale\n",
    "        gray = cv2.cvtColor(img, cv2.COLOR_BGR2GRAY)\n",
    "\n",
    "        # Detect side view faces\n",
    "        side_faces = side_face_cascade.detectMultiScale(gray, scaleFactor=1.1, minNeighbors=5, minSize=(30, 30))\n",
    "\n",
    "        # Crop the side view faces\n",
    "        for (x, y, w, h) in side_faces:\n",
    "            side_face = img[y:y+h, x:x+w]\n",
    "            output=remove(side_face)\n",
    "            # Replace the original image with the cropped image\n",
    "            cv2.imwrite(input_file_path, output)\n",
    "\n",
    "    return\n",
    "\n",
    "folder_path = '../Dataset/person1/'\n",
    "crop_side_face_folder(folder_path)\n",
    "cv2.waitKey(0)\n",
    "cv2.destroyAllWindows()"
   ]
  },
  {
   "cell_type": "code",
   "execution_count": null,
   "metadata": {},
   "outputs": [],
   "source": []
  }
 ],
 "metadata": {
  "kernelspec": {
   "display_name": "Python 3",
   "language": "python",
   "name": "python3"
  },
  "language_info": {
   "codemirror_mode": {
    "name": "ipython",
    "version": 3
   },
   "file_extension": ".py",
   "mimetype": "text/x-python",
   "name": "python",
   "nbconvert_exporter": "python",
   "pygments_lexer": "ipython3",
   "version": "3.11.1"
  },
  "orig_nbformat": 4
 },
 "nbformat": 4,
 "nbformat_minor": 2
}
