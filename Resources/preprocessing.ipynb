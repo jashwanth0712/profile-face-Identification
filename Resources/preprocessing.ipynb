{
 "cells": [
  {
   "cell_type": "code",
   "execution_count": 2,
   "metadata": {},
   "outputs": [],
   "source": [
    "import cv2\n",
    "import os\n",
    "\n",
    "folder_path = \"..\\Dataset\\person1\"\n",
    "\n",
    "# Loop through all the images in the folder\n",
    "for file_name in os.listdir(folder_path):\n",
    "    # Load the image in grayscale\n",
    "    img = cv2.imread(os.path.join(folder_path, file_name), cv2.IMREAD_GRAYSCALE)\n",
    "\n",
    "    # Apply histogram equalization\n",
    "    img = cv2.equalizeHist(img)\n",
    "\n",
    "    # Apply Gaussian smoothing\n",
    "    img = cv2.GaussianBlur(img, (5, 5), 0)\n",
    "\n",
    "    # Apply rotation normalization\n",
    "    # You can use a face detection algorithm to align the image based on the eyes or mouth\n",
    "    # Alternatively, you can use a fixed angle for rotation normalization\n",
    "    # Here's an example using a fixed angle of -45 degrees\n",
    "    rows, cols = img.shape\n",
    "    M = cv2.getRotationMatrix2D((cols/2, rows/2), -45, 1)\n",
    "    img = cv2.warpAffine(img, M, (cols, rows))\n",
    "\n",
    "    # Apply scale normalization\n",
    "    # Here's an example using a fixed size of 256x256 pixels\n",
    "    img = cv2.resize(img, (256, 256))\n",
    "\n",
    "    # Save the processed image with a new file name\n",
    "    new_file_name = file_name.split(\".\")[0] + \"_processed.jpg\"\n",
    "    cv2.imwrite(os.path.join(folder_path, new_file_name), img)\n",
    "    cv2.imshow(\"Image\", img)\n",
    "    cv2.waitKey(0)\n",
    "    cv2.destroyAllWindows()"
   ]
  }
 ],
 "metadata": {
  "kernelspec": {
   "display_name": "Python 3",
   "language": "python",
   "name": "python3"
  },
  "language_info": {
   "codemirror_mode": {
    "name": "ipython",
    "version": 3
   },
   "file_extension": ".py",
   "mimetype": "text/x-python",
   "name": "python",
   "nbconvert_exporter": "python",
   "pygments_lexer": "ipython3",
   "version": "3.11.1"
  },
  "orig_nbformat": 4
 },
 "nbformat": 4,
 "nbformat_minor": 2
}
