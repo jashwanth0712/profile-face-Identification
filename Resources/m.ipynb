{
 "cells": [
  {
   "cell_type": "code",
   "execution_count": 6,
   "metadata": {},
   "outputs": [
    {
     "name": "stdout",
     "output_type": "stream",
     "text": [
      "0\n"
     ]
    }
   ],
   "source": [
    "import cv2\n",
    "\n",
    "# Load the ear cascade classifier\n",
    "ear_cascade = cv2.CascadeClassifier('haarcascade_mcs_leftear.xml')\n",
    "\n",
    "# Load the image\n",
    "img = cv2.imread('../preprocessing/4.jpg')\n",
    "\n",
    "# Convert the image to grayscale\n",
    "gray = cv2.cvtColor(img, cv2.COLOR_BGR2GRAY)\n",
    "\n",
    "# Detect the left ear in the image\n",
    "ears = ear_cascade.detectMultiScale(gray, scaleFactor=1.1, minNeighbors=5, minSize=(1, 1))\n",
    "\n",
    "print(len(ears))\n",
    "# Extract the left ear region\n",
    "if len(ears) > 0:\n",
    "    (x, y, w, h) = ears[0]\n",
    "    ear_img = img[y:y+h, x:x+w]\n",
    "    cv2.imshow('Left Ear', ear_img)\n",
    "    cv2.waitKey(0)\n",
    "\n",
    "cv2.destroyAllWindows()"
   ]
  }
 ],
 "metadata": {
  "kernelspec": {
   "display_name": "Python 3",
   "language": "python",
   "name": "python3"
  },
  "language_info": {
   "codemirror_mode": {
    "name": "ipython",
    "version": 3
   },
   "file_extension": ".py",
   "mimetype": "text/x-python",
   "name": "python",
   "nbconvert_exporter": "python",
   "pygments_lexer": "ipython3",
   "version": "3.11.1"
  },
  "orig_nbformat": 4
 },
 "nbformat": 4,
 "nbformat_minor": 2
}
