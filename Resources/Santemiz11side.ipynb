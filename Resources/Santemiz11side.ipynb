{
 "cells": [
  {
   "cell_type": "code",
   "execution_count": 47,
   "metadata": {},
   "outputs": [],
   "source": [
    "import cv2\n",
    "import numpy as np\n",
    "# Load the side view face cascade classifier\n",
    "face_cascade = cv2.CascadeClassifier('haarcascade_profileface.xml')\n",
    "\n",
    "# Load the image\n",
    "img = cv2.imread('../preprocessing/3.jpeg')\n",
    "\n",
    "# Convert the image to grayscale\n",
    "gray = cv2.cvtColor(img, cv2.COLOR_BGR2GRAY)\n",
    "\n",
    "# Detect the faces in the image\n",
    "faces = face_cascade.detectMultiScale(gray, scaleFactor=1.1, minNeighbors=5, minSize=(30, 30))\n",
    "face_=[]\n",
    "# Extract the face region\n",
    "for (x, y, w, h) in faces:\n",
    "    face_img = img[y:y+h, x:x+w]\n",
    "    face_=face_img\n",
    "    cv2.imshow('Face', face_img)\n",
    "    cv2.waitKey(0)\n",
    "    cv2.destroyAllWindows()\n"
   ]
  },
  {
   "cell_type": "code",
   "execution_count": 48,
   "metadata": {},
   "outputs": [],
   "source": [
    "\n",
    "# Convert the image to grayscale\n",
    "gray = cv2.cvtColor(face_, cv2.COLOR_BGR2GRAY)\n",
    "\n",
    "# Apply Gaussian blur to reduce noise\n",
    "blur = cv2.GaussianBlur(gray, (7, 7), 0)\n",
    "\n",
    "# Apply adaptive thresholding to create a binary image\n",
    "thresh = cv2.adaptiveThreshold(blur, 255, cv2.ADAPTIVE_THRESH_MEAN_C, cv2.THRESH_BINARY_INV, 15, 5)\n",
    "\n",
    "# Find contours in the binary image\n",
    "contours, _ = cv2.findContours(thresh, cv2.RETR_EXTERNAL, cv2.CHAIN_APPROX_SIMPLE)\n",
    "\n",
    "# Create a mask for the contours\n",
    "mask = np.zeros_like(img)\n",
    "\n",
    "# Draw the contours on the mask\n",
    "for contour in contours:\n",
    "    cv2.drawContours(mask, [contour], 0, (255, 255, 255), -1)\n",
    "\n",
    "# Apply the mask to the original image\n",
    "result = cv2.bitwise_and(img, mask)\n",
    "\n",
    "# Display the result\n",
    "cv2.imshow('Result', result)\n",
    "cv2.waitKey(0)\n",
    "cv2.destroyAllWindows()"
   ]
  },
  {
   "cell_type": "code",
   "execution_count": 49,
   "metadata": {},
   "outputs": [],
   "source": [
    "\n",
    "# Convert the image to grayscale\n",
    "gray = cv2.cvtColor(img, cv2.COLOR_BGR2GRAY)\n",
    "\n",
    "# Apply Gaussian blur to the grayscale image to remove noise\n",
    "blur = cv2.GaussianBlur(gray, (7, 7), 0)\n",
    "\n",
    "# Apply Otsu's thresholding to obtain a binary image\n",
    "_, binary = cv2.threshold(blur, 0, 255, cv2.THRESH_BINARY_INV+cv2.THRESH_OTSU)\n",
    "\n",
    "# Apply morphology to remove small objects from the foreground\n",
    "kernel = np.ones((5,5), np.uint8)\n",
    "morphed = cv2.morphologyEx(binary, cv2.MORPH_OPEN, kernel)\n",
    "\n",
    "# Apply the mask to the original image\n",
    "result = cv2.bitwise_and(img, img, mask=morphed)\n",
    "\n",
    "# Display the result\n",
    "cv2.imshow('Result', result)\n",
    "cv2.waitKey(0)\n",
    "cv2.destroyAllWindows()"
   ]
  },
  {
   "cell_type": "code",
   "execution_count": 50,
   "metadata": {},
   "outputs": [],
   "source": [
    "\n",
    "# Convert the image to grayscale\n",
    "gray = cv2.cvtColor(result, cv2.COLOR_BGR2GRAY)\n",
    "\n",
    "# Detect the faces in the image\n",
    "faces = face_cascade.detectMultiScale(gray, scaleFactor=1.1, minNeighbors=5, minSize=(30, 30))\n",
    "face_=[]\n",
    "# Extract the face region\n",
    "for (x, y, w, h) in faces:\n",
    "    face_img = result[y:y+h, x:x+w]\n",
    "    face_=face_img\n",
    "    cv2.imshow('Face', face_img)\n",
    "    cv2.waitKey(0)\n",
    "    cv2.destroyAllWindows()"
   ]
  },
  {
   "cell_type": "code",
   "execution_count": null,
   "metadata": {},
   "outputs": [],
   "source": [
    "\n",
    "# Get the width and height of the image\n",
    "height, width = face_.shape[:2]\n",
    "\n",
    "# Crop the left half of the image\n",
    "cropped_face = face_[:, :width//2]\n",
    "\n",
    "# Display the result\n",
    "cv2.imshow('Cropped Image', cropped_face)\n",
    "cv2.waitKey(0)\n",
    "cv2.destroyAllWindows()"
   ]
  },
  {
   "cell_type": "code",
   "execution_count": 51,
   "metadata": {},
   "outputs": [],
   "source": [
    "# Convert to grayscale\n",
    "gray = cv2.cvtColor(face_, cv2.COLOR_BGR2GRAY)\n",
    "\n",
    "# Apply Gaussian blur to reduce noise\n",
    "blurred = cv2.GaussianBlur(gray, (7, 7), 0)\n",
    "\n",
    "# Apply Canny edge detector with threshold values\n",
    "edges = cv2.Canny(blurred, 30, 90)\n",
    "\n",
    "\n",
    "cv2.imshow('Original vs. Edges', edges)\n",
    "cv2.waitKey(0)\n",
    "cv2.destroyAllWindows()"
   ]
  }
 ],
 "metadata": {
  "kernelspec": {
   "display_name": "Python 3",
   "language": "python",
   "name": "python3"
  },
  "language_info": {
   "codemirror_mode": {
    "name": "ipython",
    "version": 3
   },
   "file_extension": ".py",
   "mimetype": "text/x-python",
   "name": "python",
   "nbconvert_exporter": "python",
   "pygments_lexer": "ipython3",
   "version": "3.11.1"
  },
  "orig_nbformat": 4
 },
 "nbformat": 4,
 "nbformat_minor": 2
}
