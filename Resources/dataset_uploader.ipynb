{
 "cells": [
  {
   "cell_type": "code",
   "execution_count": 5,
   "metadata": {},
   "outputs": [],
   "source": [
    "import os\n",
    "\n",
    "\n",
    "def rename_images(folder_path, person_num):\n",
    "    # Get a list of all the files in the folder\n",
    "    files = os.listdir(folder_path)\n",
    "\n",
    "    # Rename each file in the folder\n",
    "    j = 1\n",
    "    for file_name in files:\n",
    "        # Get the file extension\n",
    "        ext = os.path.splitext(file_name)[-1]\n",
    "\n",
    "        # Construct the new file name\n",
    "        new_file_name = f\"person{person_num}_{j}{ext}\"\n",
    "        new_file_path = os.path.join(folder_path, new_file_name)\n",
    "\n",
    "        # Rename the file\n",
    "        old_file_path = os.path.join(folder_path, file_name)\n",
    "        os.rename(old_file_path, new_file_path)\n",
    "\n",
    "        j += 1\n",
    "\n",
    "rename_images('..\\Dataset\\person1',1)"
   ]
  }
 ],
 "metadata": {
  "kernelspec": {
   "display_name": "Python 3",
   "language": "python",
   "name": "python3"
  },
  "language_info": {
   "codemirror_mode": {
    "name": "ipython",
    "version": 3
   },
   "file_extension": ".py",
   "mimetype": "text/x-python",
   "name": "python",
   "nbconvert_exporter": "python",
   "pygments_lexer": "ipython3",
   "version": "3.11.1"
  },
  "orig_nbformat": 4
 },
 "nbformat": 4,
 "nbformat_minor": 2
}
