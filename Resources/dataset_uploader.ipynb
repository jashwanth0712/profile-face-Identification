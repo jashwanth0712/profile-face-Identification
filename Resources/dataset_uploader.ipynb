{
 "cells": [
  {
   "cell_type": "code",
   "execution_count": 25,
   "id": "65335dba",
   "metadata": {},
   "outputs": [],
   "source": [
    "import os\n",
    "def ListofFiles(Dir):\n",
    "    Files = []\n",
    "    for root, dir_name, file_name in os.walk(Dir): \n",
    "#root store address till directory, dir_name stores directory name # file_name stores file name\n",
    "        for name in file_name:\n",
    "            fullName = os.path.join(root, name)\n",
    "            Files.append(fullName)\n",
    "    return Files"
   ]
  },
  {
   "cell_type": "code",
   "execution_count": 26,
   "id": "3b4d79a1",
   "metadata": {},
   "outputs": [],
   "source": [
    "FileList = ListofFiles(r'C:\\Users\\Arakala Lahari\\Desktop\\ML course\\project\\crop')"
   ]
  },
  {
   "cell_type": "code",
   "execution_count": 29,
   "id": "5484a028",
   "metadata": {},
   "outputs": [],
   "source": [
    "from PIL import Image\n",
    "pixels=[]\n",
    "for file in FileList:\n",
    "    Im = Image.open(file)\n",
    "    RIm=Im.resize((32,32))\n",
    "    pixels.append(list(RIm.getdata()))"
   ]
  },
  {
   "cell_type": "code",
   "execution_count": 30,
   "id": "aa397360",
   "metadata": {},
   "outputs": [
    {
     "name": "stdout",
     "output_type": "stream",
     "text": [
      "(206, 1024)\n"
     ]
    }
   ],
   "source": [
    "import numpy as np\n",
    "from numpy import savetxt\n",
    "\n",
    "pixels_arr=np.asarray(pixels)\n",
    "print(pixels_arr.shape)\n",
    "savetxt('numbers.csv', pixels_arr, delimiter=',')"
   ]
  },
  {
   "cell_type": "code",
   "execution_count": 34,
   "id": "7408696d",
   "metadata": {},
   "outputs": [],
   "source": [
    "from numpy import loadtxt\n",
    "import matplotlib.pyplot as plt\n",
    "Image = loadtxt('numbers.csv', delimiter=',')\n",
    "# X=Image[6,:].resize((32,32))\n",
    "# print(Image.shape)\n",
    "# plt.imshow(X)"
   ]
  },
  {
   "cell_type": "code",
   "execution_count": 35,
   "id": "360835f8",
   "metadata": {},
   "outputs": [],
   "source": [
    "import pandas as pd\n",
    "df=pd.read_csv('numbers.csv')"
   ]
  },
  {
   "cell_type": "code",
   "execution_count": 36,
   "id": "119540fd",
   "metadata": {},
   "outputs": [],
   "source": [
    "from sklearn.decomposition import PCA\n",
    "from sklearn.preprocessing import StandardScaler"
   ]
  },
  {
   "cell_type": "code",
   "execution_count": 37,
   "id": "0d5a6666",
   "metadata": {},
   "outputs": [
    {
     "name": "stdout",
     "output_type": "stream",
     "text": [
      "(205, 10)\n"
     ]
    }
   ],
   "source": [
    "# Scale data before applying PCA\n",
    "scaling=StandardScaler()\n",
    " \n",
    "# Use fit and transform method\n",
    "scaling.fit(df)\n",
    "Scaled_data=scaling.transform(df)\n",
    " \n",
    "# Set the n_components=3\n",
    "principal=PCA(n_components=10)\n",
    "principal.fit(Scaled_data)\n",
    "x=principal.transform(Scaled_data)\n",
    " \n",
    "# Check the dimensions of data after PCA\n",
    "print(x.shape)"
   ]
  },
  {
   "cell_type": "code",
   "execution_count": 1,
   "id": "2f494cd0",
   "metadata": {},
   "outputs": [],
   "source": [
    "# divide the data into train and test\n"
   ]
  },
  {
   "cell_type": "code",
   "execution_count": 22,
   "id": "64438ecb",
   "metadata": {},
   "outputs": [],
   "source": [
    "# any model using train data \n"
   ]
  },
  {
   "cell_type": "code",
   "execution_count": 23,
   "id": "6d3fc062",
   "metadata": {},
   "outputs": [],
   "source": [
    "# test it using the model \n"
   ]
  },
  {
   "cell_type": "code",
   "execution_count": 24,
   "id": "979c1584",
   "metadata": {},
   "outputs": [],
   "source": [
    "# find the accuracy\n"
   ]
  },
  {
   "cell_type": "code",
   "execution_count": null,
   "id": "8a63281a",
   "metadata": {},
   "outputs": [],
   "source": [
    "# may be we can check with new images also"
   ]
  }
 ],
 "metadata": {
  "kernelspec": {
   "display_name": "Python 3 (ipykernel)",
   "language": "python",
   "name": "python3"
  },
  "language_info": {
   "codemirror_mode": {
    "name": "ipython",
    "version": 3
   },
   "file_extension": ".py",
   "mimetype": "text/x-python",
   "name": "python",
   "nbconvert_exporter": "python",
   "pygments_lexer": "ipython3",
   "version": "3.9.9"
  }
 },
 "nbformat": 4,
 "nbformat_minor": 5
}
