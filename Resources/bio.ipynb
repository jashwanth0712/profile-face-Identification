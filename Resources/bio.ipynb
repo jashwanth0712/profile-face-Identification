{
 "cells": [
  {
   "cell_type": "code",
   "execution_count": null,
   "metadata": {},
   "outputs": [],
   "source": [
    "import cv2\n",
    "import dlib\n",
    "import numpy as np\n",
    "\n",
    "# Load the face detector and facial landmark predictor\n",
    "detector = dlib.get_frontal_face_detector()\n",
    "predictor = dlib.shape_predictor('shape_predictor_68_face_landmarks.dat')\n",
    "\n",
    "# Load the input image\n",
    "img = cv2.imread('face.jpg')\n",
    "\n",
    "# Convert the image to grayscale\n",
    "gray = cv2.cvtColor(img, cv2.COLOR_BGR2GRAY)\n",
    "\n",
    "# Detect faces in the grayscale image\n",
    "faces = detector(gray)\n",
    "\n",
    "# Loop over the detected faces\n",
    "for face in faces:\n",
    "    # Get the facial landmarks for the face\n",
    "    landmarks = predictor(gray, face)\n",
    "    \n",
    "    # Convert the landmarks to a numpy array\n",
    "    landmarks_array = np.array([[landmark.x, landmark.y] for landmark in landmarks.parts()])\n",
    "    \n",
    "    # Use the landmarks as a biometric feature\n",
    "    # For example, you can compute the Euclidean distance between pairs of landmarks\n",
    "    distances = []\n",
    "    for i in range(landmarks.num_parts):\n",
    "        for j in range(i+1, landmarks.num_parts):\n",
    "            dist = np.linalg.norm(landmarks_array[i] - landmarks_array[j])\n",
    "            distances.append(dist)\n",
    "    \n",
    "    print(distances)"
   ]
  }
 ],
 "metadata": {
  "language_info": {
   "name": "python"
  },
  "orig_nbformat": 4
 },
 "nbformat": 4,
 "nbformat_minor": 2
}
